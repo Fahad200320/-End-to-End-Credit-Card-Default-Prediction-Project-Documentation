{
 "cells": [
  {
   "cell_type": "code",
   "execution_count": 1,
   "id": "3ba7c7dd",
   "metadata": {},
   "outputs": [
    {
     "name": "stdout",
     "output_type": "stream",
     "text": [
      "x\n"
     ]
    }
   ],
   "source": [
    "print('x')"
   ]
  },
  {
   "cell_type": "code",
   "execution_count": 24,
   "id": "069f8cc7",
   "metadata": {},
   "outputs": [],
   "source": [
    "import pandas as pd"
   ]
  },
  {
   "cell_type": "code",
   "execution_count": 3,
   "id": "89a70f36",
   "metadata": {},
   "outputs": [],
   "source": [
    "x=pd.read_csv(r'C:\\Users\\sk abdul fahad\\OneDrive\\ml project\\Data\\preprocessdata\\x.csv')"
   ]
  },
  {
   "cell_type": "code",
   "execution_count": 4,
   "id": "01a7ac64",
   "metadata": {},
   "outputs": [],
   "source": [
    "y=pd.read_csv(r'C:\\Users\\sk abdul fahad\\OneDrive\\ml project\\Data\\preprocessdata\\y.csv')"
   ]
  },
  {
   "cell_type": "code",
   "execution_count": 5,
   "id": "45926a0e",
   "metadata": {},
   "outputs": [],
   "source": [
    "from sklearn.preprocessing import StandardScaler\n",
    "from sklearn.model_selection import train_test_split"
   ]
  },
  {
   "cell_type": "code",
   "execution_count": 6,
   "id": "e0f8ca55",
   "metadata": {},
   "outputs": [],
   "source": [
    "x_train,x_test,y_train,y_test = train_test_split(x,y,random_state=42,test_size=.3,stratify=y)"
   ]
  },
  {
   "cell_type": "code",
   "execution_count": 7,
   "id": "efead356",
   "metadata": {},
   "outputs": [
    {
     "data": {
      "text/plain": [
       "((32709, 23), (32709, 1))"
      ]
     },
     "execution_count": 7,
     "metadata": {},
     "output_type": "execute_result"
    }
   ],
   "source": [
    "x_train.shape, y_train.shape"
   ]
  },
  {
   "cell_type": "code",
   "execution_count": 9,
   "id": "669e1004",
   "metadata": {},
   "outputs": [],
   "source": [
    "scaler = StandardScaler()\n",
    "x_train_scaled = scaler.fit_transform(x_train)\n",
    "x_test_scaled = scaler.transform(x_test)"
   ]
  },
  {
   "cell_type": "markdown",
   "id": "fbfb6ff2",
   "metadata": {},
   "source": []
  },
  {
   "cell_type": "code",
   "execution_count": 10,
   "id": "544c76fa",
   "metadata": {},
   "outputs": [],
   "source": [
    "from sklearn.linear_model import LogisticRegression "
   ]
  },
  {
   "cell_type": "code",
   "execution_count": 11,
   "id": "956a5e3b",
   "metadata": {},
   "outputs": [
    {
     "name": "stdout",
     "output_type": "stream",
     "text": [
      "              precision    recall  f1-score   support\n",
      "\n",
      "           0       0.73      0.72      0.72      7010\n",
      "           1       0.72      0.73      0.73      7009\n",
      "\n",
      "    accuracy                           0.72     14019\n",
      "   macro avg       0.72      0.72      0.72     14019\n",
      "weighted avg       0.72      0.72      0.72     14019\n",
      "\n"
     ]
    },
    {
     "name": "stderr",
     "output_type": "stream",
     "text": [
      "c:\\Users\\sk abdul fahad\\OneDrive\\ml project\\venv\\lib\\site-packages\\sklearn\\utils\\validation.py:1408: DataConversionWarning: A column-vector y was passed when a 1d array was expected. Please change the shape of y to (n_samples, ), for example using ravel().\n",
      "  y = column_or_1d(y, warn=True)\n"
     ]
    }
   ],
   "source": [
    "lr = LogisticRegression()\n",
    "lr.fit(x_train_scaled,y_train)\n",
    "predict = lr.predict(x_test_scaled)\n",
    "from sklearn.metrics import classification_report\n",
    "print(classification_report(y_test,predict))"
   ]
  },
  {
   "cell_type": "code",
   "execution_count": 12,
   "id": "d422bcb7",
   "metadata": {},
   "outputs": [
    {
     "name": "stdout",
     "output_type": "stream",
     "text": [
      "              precision    recall  f1-score   support\n",
      "\n",
      "           0       0.76      0.73      0.75      7010\n",
      "           1       0.74      0.77      0.76      7009\n",
      "\n",
      "    accuracy                           0.75     14019\n",
      "   macro avg       0.75      0.75      0.75     14019\n",
      "weighted avg       0.75      0.75      0.75     14019\n",
      "\n"
     ]
    }
   ],
   "source": [
    "from sklearn.tree import DecisionTreeClassifier \n",
    "lr = DecisionTreeClassifier()\n",
    "lr.fit(x_train_scaled,y_train)\n",
    "predict = lr.predict(x_test_scaled)\n",
    "from sklearn.metrics import classification_report\n",
    "print(classification_report(y_test,predict))"
   ]
  },
  {
   "cell_type": "code",
   "execution_count": 13,
   "id": "118240ff",
   "metadata": {},
   "outputs": [],
   "source": [
    "import pickle"
   ]
  },
  {
   "cell_type": "code",
   "execution_count": 15,
   "id": "32f482e9",
   "metadata": {},
   "outputs": [],
   "source": [
    "with open (r'C:\\Users\\sk abdul fahad\\OneDrive\\ml project\\Models\\model.pkl','wb') as file:\n",
    "    pickle.dump(lr, file)"
   ]
  },
  {
   "cell_type": "code",
   "execution_count": null,
   "id": "cdea5055",
   "metadata": {},
   "outputs": [],
   "source": [
    "with open (r'C:\\Users\\sk abdul fahad\\OneDrive\\ml project\\Models\\model.pkl','rb') as file:\n",
    "    loaded_model=pickle.load(file)"
   ]
  },
  {
   "cell_type": "code",
   "execution_count": 18,
   "id": "e1df7620",
   "metadata": {},
   "outputs": [
    {
     "data": {
      "text/plain": [
       "array([1, 0, 1, ..., 1, 1, 0], shape=(14019,))"
      ]
     },
     "execution_count": 18,
     "metadata": {},
     "output_type": "execute_result"
    }
   ],
   "source": [
    "loaded_model.predict(x_test_scaled)"
   ]
  },
  {
   "cell_type": "code",
   "execution_count": 21,
   "id": "c5550ae2",
   "metadata": {},
   "outputs": [
    {
     "name": "stderr",
     "output_type": "stream",
     "text": [
      "c:\\Users\\sk abdul fahad\\OneDrive\\ml project\\venv\\lib\\site-packages\\sklearn\\base.py:1389: DataConversionWarning: A column-vector y was passed when a 1d array was expected. Please change the shape of y to (n_samples,), for example using ravel().\n",
      "  return fit_method(estimator, *args, **kwargs)\n"
     ]
    },
    {
     "name": "stdout",
     "output_type": "stream",
     "text": [
      "              precision    recall  f1-score   support\n",
      "\n",
      "           0       0.82      0.86      0.84      7010\n",
      "           1       0.85      0.81      0.83      7009\n",
      "\n",
      "    accuracy                           0.84     14019\n",
      "   macro avg       0.84      0.84      0.84     14019\n",
      "weighted avg       0.84      0.84      0.84     14019\n",
      "\n"
     ]
    }
   ],
   "source": [
    "from sklearn.ensemble import RandomForestClassifier \n",
    "lr = RandomForestClassifier()\n",
    "lr.fit(x_train_scaled,y_train)\n",
    "predict = lr.predict(x_test_scaled)\n",
    "from sklearn.metrics import classification_report\n",
    "print(classification_report(y_test,predict))"
   ]
  },
  {
   "cell_type": "code",
   "execution_count": 22,
   "id": "69c67762",
   "metadata": {},
   "outputs": [
    {
     "name": "stderr",
     "output_type": "stream",
     "text": [
      "c:\\Users\\sk abdul fahad\\OneDrive\\ml project\\venv\\lib\\site-packages\\sklearn\\utils\\validation.py:1408: DataConversionWarning: A column-vector y was passed when a 1d array was expected. Please change the shape of y to (n_samples, ), for example using ravel().\n",
      "  y = column_or_1d(y, warn=True)\n"
     ]
    },
    {
     "name": "stdout",
     "output_type": "stream",
     "text": [
      "              precision    recall  f1-score   support\n",
      "\n",
      "           0       0.73      0.78      0.75      7010\n",
      "           1       0.76      0.71      0.74      7009\n",
      "\n",
      "    accuracy                           0.75     14019\n",
      "   macro avg       0.75      0.75      0.74     14019\n",
      "weighted avg       0.75      0.75      0.74     14019\n",
      "\n"
     ]
    }
   ],
   "source": [
    "from sklearn.ensemble import AdaBoostClassifier \n",
    "lr = AdaBoostClassifier()\n",
    "lr.fit(x_train_scaled,y_train)\n",
    "predict = lr.predict(x_test_scaled)\n",
    "from sklearn.metrics import classification_report\n",
    "print(classification_report(y_test,predict))"
   ]
  },
  {
   "cell_type": "code",
   "execution_count": 23,
   "id": "576b987e",
   "metadata": {},
   "outputs": [
    {
     "name": "stderr",
     "output_type": "stream",
     "text": [
      "c:\\Users\\sk abdul fahad\\OneDrive\\ml project\\venv\\lib\\site-packages\\sklearn\\preprocessing\\_label.py:110: DataConversionWarning: A column-vector y was passed when a 1d array was expected. Please change the shape of y to (n_samples, ), for example using ravel().\n",
      "  y = column_or_1d(y, warn=True)\n"
     ]
    },
    {
     "name": "stdout",
     "output_type": "stream",
     "text": [
      "              precision    recall  f1-score   support\n",
      "\n",
      "           0       0.76      0.82      0.79      7010\n",
      "           1       0.80      0.75      0.78      7009\n",
      "\n",
      "    accuracy                           0.78     14019\n",
      "   macro avg       0.78      0.78      0.78     14019\n",
      "weighted avg       0.78      0.78      0.78     14019\n",
      "\n"
     ]
    }
   ],
   "source": [
    "from sklearn.ensemble import GradientBoostingClassifier \n",
    "lr = GradientBoostingClassifier()\n",
    "lr.fit(x_train_scaled,y_train)\n",
    "predict = lr.predict(x_test_scaled)\n",
    "from sklearn.metrics import classification_report\n",
    "print(classification_report(y_test,predict))"
   ]
  },
  {
   "cell_type": "code",
   "execution_count": 25,
   "id": "f0c4c13f",
   "metadata": {},
   "outputs": [
    {
     "name": "stderr",
     "output_type": "stream",
     "text": [
      "c:\\Users\\sk abdul fahad\\OneDrive\\ml project\\venv\\lib\\site-packages\\sklearn\\utils\\validation.py:1408: DataConversionWarning: A column-vector y was passed when a 1d array was expected. Please change the shape of y to (n_samples, ), for example using ravel().\n",
      "  y = column_or_1d(y, warn=True)\n"
     ]
    },
    {
     "name": "stdout",
     "output_type": "stream",
     "text": [
      "              precision    recall  f1-score   support\n",
      "\n",
      "           0       0.75      0.79      0.77      7010\n",
      "           1       0.78      0.74      0.76      7009\n",
      "\n",
      "    accuracy                           0.77     14019\n",
      "   macro avg       0.77      0.77      0.77     14019\n",
      "weighted avg       0.77      0.77      0.77     14019\n",
      "\n"
     ]
    }
   ],
   "source": [
    "from sklearn.svm import SVC\n",
    "lr = SVC()\n",
    "lr.fit(x_train_scaled, y_train)\n",
    "predict = lr.predict(x_test_scaled)\n",
    "from sklearn.metrics import classification_report\n",
    "print(classification_report(y_test,predict))\n",
    "\n"
   ]
  },
  {
   "cell_type": "code",
   "execution_count": 26,
   "id": "f353e822",
   "metadata": {},
   "outputs": [
    {
     "name": "stdout",
     "output_type": "stream",
     "text": [
      "              precision    recall  f1-score   support\n",
      "\n",
      "           0       0.81      0.85      0.83      7010\n",
      "           1       0.84      0.80      0.82      7009\n",
      "\n",
      "    accuracy                           0.82     14019\n",
      "   macro avg       0.82      0.82      0.82     14019\n",
      "weighted avg       0.82      0.82      0.82     14019\n",
      "\n"
     ]
    }
   ],
   "source": [
    "from xgboost import XGBClassifier \n",
    "lr = XGBClassifier()\n",
    "lr.fit(x_train_scaled,y_train)\n",
    "predict = lr.predict(x_test_scaled)\n",
    "from sklearn.metrics import classification_report\n",
    "print(classification_report(y_test,predict))"
   ]
  },
  {
   "cell_type": "code",
   "execution_count": null,
   "id": "e1934c95",
   "metadata": {},
   "outputs": [],
   "source": []
  }
 ],
 "metadata": {
  "kernelspec": {
   "display_name": "venv",
   "language": "python",
   "name": "python3"
  },
  "language_info": {
   "codemirror_mode": {
    "name": "ipython",
    "version": 3
   },
   "file_extension": ".py",
   "mimetype": "text/x-python",
   "name": "python",
   "nbconvert_exporter": "python",
   "pygments_lexer": "ipython3",
   "version": "3.10.0"
  }
 },
 "nbformat": 4,
 "nbformat_minor": 5
}
